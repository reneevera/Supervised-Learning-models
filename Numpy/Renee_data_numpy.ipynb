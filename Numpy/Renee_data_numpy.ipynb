{
 "cells": [
  {
   "cell_type": "code",
   "execution_count": 516,
   "metadata": {},
   "outputs": [],
   "source": [
    "import numpy as np"
   ]
  },
  {
   "cell_type": "markdown",
   "metadata": {},
   "source": [
    "Add a cell to create a function and name it  my_function_firstname, where firstname is your first name.\n",
    "Let the function return an integer value stored in one byte i.e. ‘int8’ of (4x)*(3y). Where x is the number of rows and y is the number of columns.\n",
    " Use np.fromfunction() to generate  three elements each are two by six using the  my_fuction_firstname.\n"
   ]
  },
  {
   "cell_type": "code",
   "execution_count": 517,
   "metadata": {},
   "outputs": [
    {
     "name": "stdout",
     "output_type": "stream",
     "text": [
      "[[[ 0  0  0  0  0  0]\n",
      "  [ 0 12 24 36 48 60]]\n",
      "\n",
      " [[ 0  0  0  0  0  0]\n",
      "  [ 0 12 24 36 48 60]]\n",
      "\n",
      " [[ 0  0  0  0  0  0]\n",
      "  [ 0 12 24 36 48 60]]]\n"
     ]
    }
   ],
   "source": [
    "\n",
    "def my_function_renee(z, x, y):\n",
    "    return np.int8((4*x) * (3*y))\n",
    "\n",
    "result_array = np.fromfunction(my_function_renee, (3, 2, 6), dtype=int)\n",
    "\n",
    "\n",
    "print(result_array)\n",
    "\n"
   ]
  },
  {
   "cell_type": "markdown",
   "metadata": {},
   "source": [
    "Inspect the code under this section copy it, add a cell to extract values 16,17,18"
   ]
  },
  {
   "cell_type": "code",
   "execution_count": 518,
   "metadata": {},
   "outputs": [
    {
     "data": {
      "text/plain": [
       "array([[ 0,  1,  2,  3,  4,  5,  6,  7,  8,  9, 10, 11],\n",
       "       [12, 13, 14, 15, 16, 17, 18, 19, 20, 21, 22, 23],\n",
       "       [24, 25, 26, 27, 28, 29, 30, 31, 32, 33, 34, 35],\n",
       "       [36, 37, 38, 39, 40, 41, 42, 43, 44, 45, 46, 47]])"
      ]
     },
     "execution_count": 518,
     "metadata": {},
     "output_type": "execute_result"
    }
   ],
   "source": [
    "b = np.arange(48).reshape(4, 12)\n",
    "b"
   ]
  },
  {
   "cell_type": "code",
   "execution_count": 519,
   "metadata": {},
   "outputs": [
    {
     "data": {
      "text/plain": [
       "array([16, 17, 18])"
      ]
     },
     "execution_count": 519,
     "metadata": {},
     "output_type": "execute_result"
    }
   ],
   "source": [
    "\n",
    "b[1,4:7]\n"
   ]
  },
  {
   "cell_type": "markdown",
   "metadata": {},
   "source": [
    "Inspect the code under this section copy it, then add a cell to iterate over c and print the Boolean values for items equivalent to zeros."
   ]
  },
  {
   "cell_type": "code",
   "execution_count": 520,
   "metadata": {},
   "outputs": [
    {
     "name": "stdout",
     "output_type": "stream",
     "text": [
      "[[[ True False False False]\n",
      "  [False False False False]\n",
      "  [False False False False]]\n",
      "\n",
      " [[False False False False]\n",
      "  [False False False False]\n",
      "  [False False False False]]]\n"
     ]
    }
   ],
   "source": [
    "c = np.arange(24).reshape(2, 3, 4)  \n",
    "\n",
    "result = np.zeros_like(c, dtype=bool)\n",
    "\n",
    "for i in range(c.shape[0]):\n",
    "    for j in range(c.shape[1]):\n",
    "        for k in range(c.shape[2]):\n",
    "            result[i, j, k] = (c[i, j, k] == 0)\n",
    "\n",
    "print(result)"
   ]
  },
  {
   "cell_type": "markdown",
   "metadata": {},
   "source": [
    "Inspect the code under this section copy it, then add a cell to create a variable name it q5_firstname where firstname is your firstname and vertically stack q1 and q2 and print the output."
   ]
  },
  {
   "cell_type": "code",
   "execution_count": 521,
   "metadata": {},
   "outputs": [
    {
     "data": {
      "text/plain": [
       "array([[1., 1., 1., 1.],\n",
       "       [1., 1., 1., 1.],\n",
       "       [1., 1., 1., 1.],\n",
       "       [2., 2., 2., 2.],\n",
       "       [2., 2., 2., 2.],\n",
       "       [2., 2., 2., 2.]])"
      ]
     },
     "execution_count": 521,
     "metadata": {},
     "output_type": "execute_result"
    }
   ],
   "source": [
    "q1 = np.full((3,4), 1.0)\n",
    "q2 = np.full((3,4), 2.0)\n",
    "q3 = np.full((3,4), 3.0)\n",
    "q5_renee = np.vstack((q1, q2))\n",
    "q5_renee\n",
    "\n",
    "\n"
   ]
  },
  {
   "cell_type": "markdown",
   "metadata": {},
   "source": [
    "Inspect the code under this section copy it, then add a cell to create a variable name it q8_firstname where firstname is your firstname , concatenate q1 and q3 and print the results."
   ]
  },
  {
   "cell_type": "code",
   "execution_count": 522,
   "metadata": {},
   "outputs": [
    {
     "data": {
      "text/plain": [
       "array([[1., 1., 1., 1.],\n",
       "       [1., 1., 1., 1.],\n",
       "       [1., 1., 1., 1.],\n",
       "       [3., 3., 3., 3.],\n",
       "       [3., 3., 3., 3.],\n",
       "       [3., 3., 3., 3.]])"
      ]
     },
     "execution_count": 522,
     "metadata": {},
     "output_type": "execute_result"
    }
   ],
   "source": [
    "q8_renee = np.concatenate((q1, q3), axis=0)\n",
    "q8_renee\n"
   ]
  },
  {
   "cell_type": "markdown",
   "metadata": {},
   "source": [
    "Inspect the code under this section copy it, then add a cell and create a variable named t_firstname where firstname is your name, let the variable hold any ndaray size 2 by 7 with zero values, print the result then transpose and print the result."
   ]
  },
  {
   "cell_type": "code",
   "execution_count": 523,
   "metadata": {},
   "outputs": [
    {
     "data": {
      "text/plain": [
       "array([[0., 0., 0., 0., 0., 0., 0.],\n",
       "       [0., 0., 0., 0., 0., 0., 0.]])"
      ]
     },
     "execution_count": 523,
     "metadata": {},
     "output_type": "execute_result"
    }
   ],
   "source": [
    "t_renee = np.zeros((2, 7))\n",
    "t_renee\n"
   ]
  },
  {
   "cell_type": "code",
   "execution_count": 524,
   "metadata": {},
   "outputs": [
    {
     "data": {
      "text/plain": [
       "array([[0., 0.],\n",
       "       [0., 0.],\n",
       "       [0., 0.],\n",
       "       [0., 0.],\n",
       "       [0., 0.],\n",
       "       [0., 0.],\n",
       "       [0., 0.]])"
      ]
     },
     "execution_count": 524,
     "metadata": {},
     "output_type": "execute_result"
    }
   ],
   "source": [
    "\n",
    "t_renee_t = t_renee.transpose(1, 0)\n",
    "t_renee_t"
   ]
  },
  {
   "cell_type": "markdown",
   "metadata": {},
   "source": [
    "Inspect the code under this section copy it, then  add a cell to create 2 ndarys name the first a1 and the second a2. Both arrays should contain numbers in the range 0 to 8, inclusive . Print a1 and a2. Reshape a1 to a 2 by 4. Reshape a2 to a 4 by 2. Create a new variable a3 _first name where firstname is your first name which holds the dot product  of a1 and a2 name it a3 and print the output of a3_firstname, then the shape of a3_first name."
   ]
  },
  {
   "cell_type": "code",
   "execution_count": 525,
   "metadata": {},
   "outputs": [
    {
     "data": {
      "text/plain": [
       "array([[1, 2, 3, 4],\n",
       "       [5, 6, 7, 8]])"
      ]
     },
     "execution_count": 525,
     "metadata": {},
     "output_type": "execute_result"
    }
   ],
   "source": [
    "a1 = np.arange(1, 9).reshape(2, 4)\n",
    "a1"
   ]
  },
  {
   "cell_type": "code",
   "execution_count": 526,
   "metadata": {},
   "outputs": [
    {
     "data": {
      "text/plain": [
       "array([[1, 2],\n",
       "       [3, 4],\n",
       "       [5, 6],\n",
       "       [7, 8]])"
      ]
     },
     "execution_count": 526,
     "metadata": {},
     "output_type": "execute_result"
    }
   ],
   "source": [
    "a2 = np.arange(1, 9).reshape(4,2)\n",
    "a2"
   ]
  },
  {
   "cell_type": "code",
   "execution_count": 527,
   "metadata": {},
   "outputs": [
    {
     "data": {
      "text/plain": [
       "array([[ 50,  60],\n",
       "       [114, 140]])"
      ]
     },
     "execution_count": 527,
     "metadata": {},
     "output_type": "execute_result"
    }
   ],
   "source": [
    "a3_renee = np.dot(a1, a2)\n",
    "a3_renee"
   ]
  },
  {
   "cell_type": "markdown",
   "metadata": {},
   "source": [
    "Add a cell to create a new 4 by 4 ndaray with values between 0 and 15, name the variable that holds the array your first name, print the array and the inverse of the array."
   ]
  },
  {
   "cell_type": "code",
   "execution_count": 528,
   "metadata": {},
   "outputs": [
    {
     "data": {
      "text/plain": [
       "array([[ 0,  1,  2,  3],\n",
       "       [ 4,  5,  6,  7],\n",
       "       [ 8,  9, 10, 11],\n",
       "       [12, 13, 14, 15]])"
      ]
     },
     "execution_count": 528,
     "metadata": {},
     "output_type": "execute_result"
    }
   ],
   "source": [
    "renee = np.arange(0, 16).reshape(4, 4)\n",
    "renee\n"
   ]
  },
  {
   "cell_type": "code",
   "execution_count": 529,
   "metadata": {},
   "outputs": [
    {
     "data": {
      "text/plain": [
       "array([[ 9.00719925e+14, -4.50359963e+14, -1.80143985e+15,\n",
       "         1.35107989e+15],\n",
       "       [-2.40191980e+15,  2.70215978e+15,  1.80143985e+15,\n",
       "        -2.10167983e+15],\n",
       "       [ 2.10167983e+15, -4.05323966e+15,  1.80143985e+15,\n",
       "         1.50119988e+14],\n",
       "       [-6.00479950e+14,  1.80143985e+15, -1.80143985e+15,\n",
       "         6.00479950e+14]])"
      ]
     },
     "execution_count": 529,
     "metadata": {},
     "output_type": "execute_result"
    }
   ],
   "source": [
    "import numpy.linalg as la\n",
    "la.inv(renee)   "
   ]
  },
  {
   "cell_type": "markdown",
   "metadata": {},
   "source": [
    "Add a cell to create a 4 by 4 identity array."
   ]
  },
  {
   "cell_type": "code",
   "execution_count": 530,
   "metadata": {},
   "outputs": [
    {
     "data": {
      "text/plain": [
       "array([[ 1.5   , -1.    ,  0.5   , -0.1875],\n",
       "       [ 0.    ,  0.    ,  0.5   ,  0.    ],\n",
       "       [ 0.    ,  0.    , -0.5   ,  0.    ],\n",
       "       [ 0.    ,  8.    , -2.5   ,  4.    ]])"
      ]
     },
     "execution_count": 530,
     "metadata": {},
     "output_type": "execute_result"
    }
   ],
   "source": [
    "renee.dot(la.inv(renee))\n"
   ]
  },
  {
   "cell_type": "markdown",
   "metadata": {},
   "source": [
    "Add a cell to create a 3 by 3 matrix with values generated randomly then printout the determinant of the matrix."
   ]
  },
  {
   "cell_type": "code",
   "execution_count": 531,
   "metadata": {},
   "outputs": [
    {
     "data": {
      "text/plain": [
       "array([[0.47608431, 0.53322432, 0.8157361 ],\n",
       "       [0.7702506 , 0.351193  , 0.61968497],\n",
       "       [0.82030597, 0.33480859, 0.34076741]])"
      ]
     },
     "execution_count": 531,
     "metadata": {},
     "output_type": "execute_result"
    }
   ],
   "source": [
    "# Add a cell to create a 3 by 3 matrix with values generated randomly then printout the determinant of the matrix.\n",
    "renee_ran  = np.random.random((3, 3))\n",
    "renee_ran\n"
   ]
  },
  {
   "cell_type": "code",
   "execution_count": 532,
   "metadata": {},
   "outputs": [
    {
     "data": {
      "text/plain": [
       "0.06466073417273484"
      ]
     },
     "execution_count": 532,
     "metadata": {},
     "output_type": "execute_result"
    }
   ],
   "source": [
    "la.det(renee_ran)"
   ]
  },
  {
   "cell_type": "markdown",
   "metadata": {},
   "source": [
    "Add a cell to create a 4 by 4 matrix with values generated randomly, assign the matrix to a variable named e_firstname. Printout the Eigenvalue and eigenvectors of the matrix."
   ]
  },
  {
   "cell_type": "code",
   "execution_count": 533,
   "metadata": {},
   "outputs": [
    {
     "data": {
      "text/plain": [
       "array([[0.67169205, 0.41717689, 0.81194731, 0.50528627],\n",
       "       [0.96721422, 0.87172345, 0.71162595, 0.85097868],\n",
       "       [0.20192216, 0.66186834, 0.96978676, 0.18781366],\n",
       "       [0.01355694, 0.05136291, 0.801518  , 0.86767052]])"
      ]
     },
     "execution_count": 533,
     "metadata": {},
     "output_type": "execute_result"
    }
   ],
   "source": [
    "e_renee = np.random.random((4, 4))\n",
    "e_renee\n",
    "\n"
   ]
  },
  {
   "cell_type": "code",
   "execution_count": 534,
   "metadata": {},
   "outputs": [],
   "source": [
    "eigenvalues, eigenvectors = la.eig(e_renee)\n"
   ]
  },
  {
   "cell_type": "code",
   "execution_count": 535,
   "metadata": {},
   "outputs": [
    {
     "data": {
      "text/plain": [
       "array([2.32939342+0.j        , 0.33671302+0.45400688j,\n",
       "       0.33671302-0.45400688j, 0.37805332+0.j        ])"
      ]
     },
     "execution_count": 535,
     "metadata": {},
     "output_type": "execute_result"
    }
   ],
   "source": [
    "eigenvalues\n"
   ]
  },
  {
   "cell_type": "code",
   "execution_count": 536,
   "metadata": {},
   "outputs": [
    {
     "data": {
      "text/plain": [
       "array([[ 0.48080689+0.j        , -0.04758003+0.10307666j,\n",
       "        -0.04758003-0.10307666j, -0.46026052+0.j        ],\n",
       "       [ 0.69995113+0.j        ,  0.62120279+0.j        ,\n",
       "         0.62120279-0.j        ,  0.3351084 +0.j        ],\n",
       "       [ 0.45026923+0.j        , -0.30815334-0.42216823j,\n",
       "        -0.30815334+0.42216823j, -0.43848766+0.j        ],\n",
       "       [ 0.27595428+0.j        , -0.07877986+0.56729857j,\n",
       "        -0.07877986-0.56729857j,  0.69540721+0.j        ]])"
      ]
     },
     "execution_count": 536,
     "metadata": {},
     "output_type": "execute_result"
    }
   ],
   "source": [
    "eigenvectors"
   ]
  },
  {
   "cell_type": "markdown",
   "metadata": {},
   "source": [
    "Add a cell to solve the following linear equations:\n",
    "2x+4y+z =12\n",
    "3x+8y+2z =16\n",
    "X+2y+3z = 3\n",
    "Check the results using the allcolse method.\n"
   ]
  },
  {
   "cell_type": "code",
   "execution_count": 537,
   "metadata": {},
   "outputs": [
    {
     "data": {
      "text/plain": [
       "array([ 8. , -0.7, -1.2])"
      ]
     },
     "execution_count": 537,
     "metadata": {},
     "output_type": "execute_result"
    }
   ],
   "source": [
    "coeffs  = np.array([[2, 4, 1], [3, 8, 2], [1, 2, 3]])\n",
    "depvars = np.array([12, 16, 3])\n",
    "solution = la.solve(coeffs, depvars)\n",
    "solution\n"
   ]
  },
  {
   "cell_type": "code",
   "execution_count": 538,
   "metadata": {},
   "outputs": [
    {
     "data": {
      "text/plain": [
       "(array([12., 16.,  3.]), array([12, 16,  3]))"
      ]
     },
     "execution_count": 538,
     "metadata": {},
     "output_type": "execute_result"
    }
   ],
   "source": [
    "coeffs.dot(solution), depvars"
   ]
  },
  {
   "cell_type": "code",
   "execution_count": 539,
   "metadata": {},
   "outputs": [
    {
     "data": {
      "text/plain": [
       "True"
      ]
     },
     "execution_count": 539,
     "metadata": {},
     "output_type": "execute_result"
    }
   ],
   "source": [
    "np.allclose(coeffs.dot(solution), depvars)\n"
   ]
  }
 ],
 "metadata": {
  "kernelspec": {
   "display_name": "Python 3 (ipykernel)",
   "language": "python",
   "name": "python3"
  },
  "language_info": {
   "codemirror_mode": {
    "name": "ipython",
    "version": 3
   },
   "file_extension": ".py",
   "mimetype": "text/x-python",
   "name": "python",
   "nbconvert_exporter": "python",
   "pygments_lexer": "ipython3",
   "version": "3.11.5"
  }
 },
 "nbformat": 4,
 "nbformat_minor": 2
}
