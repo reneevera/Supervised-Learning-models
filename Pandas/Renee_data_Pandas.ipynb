{
 "cells": [
  {
   "cell_type": "code",
   "execution_count": 271,
   "metadata": {},
   "outputs": [],
   "source": [
    "import pandas as pd"
   ]
  },
  {
   "cell_type": "markdown",
   "metadata": {},
   "source": [
    "Inspect the code under this section, then add a cell to:\n",
    "1.\tCreate a new dictionary, name it your firstname where firstname _fruits is your first name.\n",
    "\n",
    "2.\tAdd four items to the dictionary with names of your favorite fruits as keys and the respective color as values.\n",
    "3.\tConvert the dictionary into a pandas series named firstname_f.\n",
    "4.\tPrint out the second and third items.\n",
    "5.\tCreate a sub series named firstname_f2 containing the second and third items.\n",
    "6.\tPrintout from the sub series the last item using iloc."
   ]
  },
  {
   "cell_type": "code",
   "execution_count": 272,
   "metadata": {},
   "outputs": [
    {
     "name": "stdout",
     "output_type": "stream",
     "text": [
      "{'apples': 'red', 'bananas': 'yellow', 'oranges': 'orange', 'pears': 'green'}\n",
      "bananas    yellow\n",
      "oranges    orange\n",
      "dtype: object\n",
      "orange\n"
     ]
    }
   ],
   "source": [
    "#Create a new dictionary called renee_fruits.\n",
    "renee_fruits = {}\n",
    "#Add four items to the dictionary with names of your favorite fruits as keys and the respective color as values.\n",
    "renee_fruits['apples'] = 'red'\n",
    "renee_fruits['bananas'] = 'yellow'\n",
    "renee_fruits['oranges'] = 'orange'\n",
    "renee_fruits['pears'] = 'green'\n",
    "print(renee_fruits)\n",
    "#Convert the dictionary into a pandas series named firstname_f.\n",
    "renee_f = pd.Series(renee_fruits)\n",
    "renee_f\n",
    "# Print out the second and third items. \n",
    "print(renee_f[1:3])\n",
    "# Create a sub series named firstname_f2 containing the second and third items.\n",
    "renee_f2 = renee_f[1:3]\n",
    "renee_f2\n",
    "# Printout from the sub series the last item using iloc.\n",
    "print(renee_f2.iloc[1])"
   ]
  },
  {
   "cell_type": "markdown",
   "metadata": {},
   "source": [
    "Add a cell with the following logic:\n",
    "1.\tCreate a list containing four  rainfall amounts  of values 10, 23,24,30 name the list firstname_amounts.\n",
    "2.\tUsing pandas create a date_range for todays date/time (you can set any time) with four time intervals.\n",
    "3.\tCreate a series that combines both the list and date range name it firstname_rainfall amounts_today.\n",
    "4.\tPlot as bar chart.\n"
   ]
  },
  {
   "cell_type": "code",
   "execution_count": 273,
   "metadata": {},
   "outputs": [
    {
     "data": {
      "text/plain": [
       "<Axes: >"
      ]
     },
     "execution_count": 273,
     "metadata": {},
     "output_type": "execute_result"
    },
    {
     "data": {
      "image/png": "[encoded data removed]",
      "text/plain": [
       "<Figure size 640x480 with 1 Axes>"
      ]
     },
     "metadata": {},
     "output_type": "display_data"
    }
   ],
   "source": [
    "# Create a list containing four  rainfall amounts  of values 10, 23,24,30 name the list firstname_amounts.\n",
    "renee_amounts = [10, 23, 24, 30]\n",
    "# Using pandas create a date_range for todays date/time (you can set any time) with four time intervals.\n",
    "renee_dates = pd.date_range('2024-01-13 12:30pm', periods=4, freq='H')\n",
    "renee_dates\n",
    "# Create a series that combines both the list and date range name it firstname_rainfall amounts_today.\n",
    "renee_rainfall = pd.Series(renee_amounts, renee_dates)\n",
    "renee_rainfall\n",
    "# Plot as bar chart.\n",
    "renee_rainfall.plot(kind='bar')\n"
   ]
  },
  {
   "cell_type": "markdown",
   "metadata": {},
   "source": [
    "Make a copy of the dataframe d5 and name it fristname_d5, carryout the following:\n",
    "1.\tprint out a dataframe containing all “private” columns\n",
    "2.\tSwap the columns and rows (hint: look at transpose) \n"
   ]
  },
  {
   "cell_type": "code",
   "execution_count": 274,
   "metadata": {},
   "outputs": [
    {
     "data": {
      "text/html": [
       "<div>\n",
       "<style scoped>\n",
       "    .dataframe tbody tr th:only-of-type {\n",
       "        vertical-align: middle;\n",
       "    }\n",
       "\n",
       "    .dataframe tbody tr th {\n",
       "        vertical-align: top;\n",
       "    }\n",
       "\n",
       "    .dataframe thead tr th {\n",
       "        text-align: left;\n",
       "    }\n",
       "</style>\n",
       "<table border=\"1\" class=\"dataframe\">\n",
       "  <thead>\n",
       "    <tr>\n",
       "      <th></th>\n",
       "      <th></th>\n",
       "      <th colspan=\"2\" halign=\"left\">Paris</th>\n",
       "      <th>London</th>\n",
       "    </tr>\n",
       "    <tr>\n",
       "      <th></th>\n",
       "      <th></th>\n",
       "      <th>alice</th>\n",
       "      <th>bob</th>\n",
       "      <th>charles</th>\n",
       "    </tr>\n",
       "  </thead>\n",
       "  <tbody>\n",
       "    <tr>\n",
       "      <th rowspan=\"2\" valign=\"top\">public</th>\n",
       "      <th>birthyear</th>\n",
       "      <td>1985</td>\n",
       "      <td>1984</td>\n",
       "      <td>1992</td>\n",
       "    </tr>\n",
       "    <tr>\n",
       "      <th>hobby</th>\n",
       "      <td>Biking</td>\n",
       "      <td>Dancing</td>\n",
       "      <td>NaN</td>\n",
       "    </tr>\n",
       "    <tr>\n",
       "      <th rowspan=\"2\" valign=\"top\">private</th>\n",
       "      <th>weight</th>\n",
       "      <td>68</td>\n",
       "      <td>83</td>\n",
       "      <td>112</td>\n",
       "    </tr>\n",
       "    <tr>\n",
       "      <th>children</th>\n",
       "      <td>NaN</td>\n",
       "      <td>3.0</td>\n",
       "      <td>0.0</td>\n",
       "    </tr>\n",
       "  </tbody>\n",
       "</table>\n",
       "</div>"
      ],
      "text/plain": [
       "                    Paris           London\n",
       "                    alice      bob charles\n",
       "public  birthyear    1985     1984    1992\n",
       "        hobby      Biking  Dancing     NaN\n",
       "private weight         68       83     112\n",
       "        children      NaN      3.0     0.0"
      ]
     },
     "execution_count": 274,
     "metadata": {},
     "output_type": "execute_result"
    }
   ],
   "source": [
    "# Make a copy of the dataframe d5 and name it fristname_d5, carryout the following:\n",
    "# 1.\tprint out a dataframe containing all “private” columns\n",
    "# 2.\tSwap the columns and rows (hint: look at transpose) \n",
    "\n",
    "import numpy as np\n",
    "renee_d5 = pd.DataFrame(\n",
    "  {\n",
    "    (\"public\", \"birthyear\"):\n",
    "        {(\"Paris\",\"alice\"):1985, (\"Paris\",\"bob\"): 1984, (\"London\",\"charles\"): 1992},\n",
    "    (\"public\", \"hobby\"):\n",
    "        {(\"Paris\",\"alice\"):\"Biking\", (\"Paris\",\"bob\"): \"Dancing\"},\n",
    "    (\"private\", \"weight\"):\n",
    "        {(\"Paris\",\"alice\"):68, (\"Paris\",\"bob\"): 83, (\"London\",\"charles\"): 112},\n",
    "    (\"private\", \"children\"):\n",
    "        {(\"Paris\", \"alice\"):np.nan, (\"Paris\",\"bob\"): 3, (\"London\",\"charles\"): 0}\n",
    "  }\n",
    ")\n",
    "renee_d5[\"private\"]\n",
    "\n",
    "# Swap the columns and rows (hint: look at transpose)\n",
    "renee_d5.T"
   ]
  },
  {
   "cell_type": "markdown",
   "metadata": {},
   "source": [
    "Use the query() to query the people dataframe  you created earlier and retrieve everything related to alice."
   ]
  },
  {
   "cell_type": "code",
   "execution_count": 275,
   "metadata": {},
   "outputs": [
    {
     "data": {
      "text/html": [
       "<div>\n",
       "<style scoped>\n",
       "    .dataframe tbody tr th:only-of-type {\n",
       "        vertical-align: middle;\n",
       "    }\n",
       "\n",
       "    .dataframe tbody tr th {\n",
       "        vertical-align: top;\n",
       "    }\n",
       "\n",
       "    .dataframe thead tr th {\n",
       "        text-align: left;\n",
       "    }\n",
       "</style>\n",
       "<table border=\"1\" class=\"dataframe\">\n",
       "  <thead>\n",
       "    <tr>\n",
       "      <th></th>\n",
       "      <th></th>\n",
       "      <th colspan=\"2\" halign=\"left\">public</th>\n",
       "      <th colspan=\"2\" halign=\"left\">private</th>\n",
       "    </tr>\n",
       "    <tr>\n",
       "      <th></th>\n",
       "      <th></th>\n",
       "      <th>birthyear</th>\n",
       "      <th>hobby</th>\n",
       "      <th>weight</th>\n",
       "      <th>children</th>\n",
       "    </tr>\n",
       "  </thead>\n",
       "  <tbody>\n",
       "    <tr>\n",
       "      <th>Paris</th>\n",
       "      <th>alice</th>\n",
       "      <td>1985</td>\n",
       "      <td>Biking</td>\n",
       "      <td>68</td>\n",
       "      <td>NaN</td>\n",
       "    </tr>\n",
       "  </tbody>\n",
       "</table>\n",
       "</div>"
      ],
      "text/plain": [
       "               public         private         \n",
       "            birthyear   hobby  weight children\n",
       "Paris alice      1985  Biking      68      NaN"
      ]
     },
     "execution_count": 275,
     "metadata": {},
     "output_type": "execute_result"
    }
   ],
   "source": [
    "# Use the query() to query the people dataframe  you created earlier and retrieve everything related to alice.\n",
    "alice_data = renee_d5.loc[renee_d5.index.get_level_values(1) == 'alice']\n",
    "alice_data"
   ]
  },
  {
   "cell_type": "markdown",
   "metadata": {},
   "source": [
    "Add a cell to create a dataframe containing grade for four students choose the name of the students and use the names as index. For columns create four columns to reflect the months April, May, June, July. Set grade items for each student for each month to be between 0 and 100.  Name the dataframe fristname_grades. Carry out the following using pandas operations:\n",
    "1.\tPrint out the average for the month of April\n",
    "2.\tAdjust all the grades by 2% (i.e. increase)\n",
    "3.\tPrintout the grades for the month of may that are higher than 50%\n",
    "4.\tGroup the failing students i.e. the students with average over four month below 50%\n"
   ]
  },
  {
   "cell_type": "code",
   "execution_count": 276,
   "metadata": {},
   "outputs": [
    {
     "data": {
      "text/plain": [
       "Alice       True\n",
       "Bob         True\n",
       "Charlie    False\n",
       "Duan       False\n",
       "dtype: bool"
      ]
     },
     "execution_count": 276,
     "metadata": {},
     "output_type": "execute_result"
    }
   ],
   "source": [
    "# Add a cell to create a dataframe containing grade for four students choose the name of the students and use the names as index. For columns create four columns to reflect the months April, May, June, July. Set grade items for each student for each month to be between 0 and 100.  Name the dataframe fristname_grades.\n",
    "grades = {\n",
    "    'April': [95, 92, 76, 99],\n",
    "    'May': [99, 99, 83, 88],\n",
    "    'June': [100, 95, 90, 82],\n",
    "    'July': [100, 100, 90, 82]\n",
    "}\n",
    "students = ['Alice', 'Bob', 'Charlie', 'Duan']\n",
    "renee_grades = pd.DataFrame(grades, students)\n",
    "# Print out the average for the month of April\n",
    "renee_grades[\"April\"].mean()\n",
    "# Adjust all the grades by 2% (i.e. increase)\n",
    "renee_grades = renee_grades + 2\n",
    "# printout the grades for the month of may that are higher than 50%\n",
    "renee_grades[\"May\"][renee_grades[\"May\"] > 50]\n",
    "(renee_grades > 50).all(axis=1)\n",
    "#Group the failing students i.e. the students with average over four month below 50%\n",
    "renee_grades.mean(axis=1)[renee_grades.mean(axis=1) < 50]\n",
    "(renee_grades < 50).all(axis=1)\n",
    "\n",
    "\n",
    "\n",
    "\n",
    "\n"
   ]
  }
 ],
 "metadata": {
  "kernelspec": {
   "display_name": "Python 3 (ipykernel)",
   "language": "python",
   "name": "python3"
  },
  "language_info": {
   "codemirror_mode": {
    "name": "ipython",
    "version": 3
   },
   "file_extension": ".py",
   "mimetype": "text/x-python",
   "name": "python",
   "nbconvert_exporter": "python",
   "pygments_lexer": "ipython3",
   "version": "3.11.5"
  }
 },
 "nbformat": 4,
 "nbformat_minor": 2
}
